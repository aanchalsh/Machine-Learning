{
  "nbformat": 4,
  "nbformat_minor": 0,
  "metadata": {
    "colab": {
      "name": "ML PCA.ipynb",
      "provenance": [],
      "collapsed_sections": [],
      "authorship_tag": "ABX9TyP+GzNq+6VntBFU1QADFuTy",
      "include_colab_link": true
    },
    "kernelspec": {
      "name": "python3",
      "display_name": "Python 3"
    },
    "language_info": {
      "name": "python"
    }
  },
  "cells": [
    {
      "cell_type": "markdown",
      "metadata": {
        "id": "view-in-github",
        "colab_type": "text"
      },
      "source": [
        "<a href=\"https://colab.research.google.com/github/aanchalsh/Machine-Learning/blob/main/ML_PCA.ipynb\" target=\"_parent\"><img src=\"https://colab.research.google.com/assets/colab-badge.svg\" alt=\"Open In Colab\"/></a>"
      ]
    },
    {
      "cell_type": "markdown",
      "source": [
        "**Curse of Dimensionality** (More no .of features, then what is the curse/disavantage? )\n",
        "\n",
        "Dimensionality means features\n",
        "--->reduce the no of features \n",
        "---->merge the features together to obtain accuracy \n",
        "\n",
        "Techniques: Feature Selection and Feature Extraction\n",
        "\n",
        "Computational Complexity decreases . Time reduction \n",
        "\n",
        "\n"
      ],
      "metadata": {
        "id": "yr6FgWCN8DCN"
      }
    },
    {
      "cell_type": "markdown",
      "source": [
        "\n",
        "**Principal Component Analysis (Reducing the features)**"
      ],
      "metadata": {
        "id": "419YSIii9WWk"
      }
    },
    {
      "cell_type": "markdown",
      "source": [
        "Reduce the number of variables of a data set, while preserving as much information as possible."
      ],
      "metadata": {
        "id": "5GbaLsf-9b8U"
      }
    }
  ]
}